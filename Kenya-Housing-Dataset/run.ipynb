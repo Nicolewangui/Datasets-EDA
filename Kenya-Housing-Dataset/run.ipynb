{
 "cells": [
  {
   "cell_type": "code",
   "execution_count": 34,
   "metadata": {},
   "outputs": [],
   "source": [
    "import pandas as pd\n",
    "import numpy as np\n",
    "import seaborn as sns\n",
    "from sklearn.metrics import confusion_matrix, accuracy_score\n",
    "import matplotlib.pyplot as plt\n",
    "from sklearn.model_selection import train_test_split\n",
    "from sklearn.tree import DecisionTreeClassifier"
   ]
  },
  {
   "cell_type": "code",
   "execution_count": 35,
   "metadata": {},
   "outputs": [],
   "source": [
    "housing_data = pd.read_csv(\"C:/Users/25479/OneDrive/Desktop/Github/Kenya-Housing-Dataset/apartments.csv\")"
   ]
  },
  {
   "cell_type": "code",
   "execution_count": 36,
   "metadata": {},
   "outputs": [
    {
     "data": {
      "text/html": [
       "<div>\n",
       "<style scoped>\n",
       "    .dataframe tbody tr th:only-of-type {\n",
       "        vertical-align: middle;\n",
       "    }\n",
       "\n",
       "    .dataframe tbody tr th {\n",
       "        vertical-align: top;\n",
       "    }\n",
       "\n",
       "    .dataframe thead th {\n",
       "        text-align: right;\n",
       "    }\n",
       "</style>\n",
       "<table border=\"1\" class=\"dataframe\">\n",
       "  <thead>\n",
       "    <tr style=\"text-align: right;\">\n",
       "      <th></th>\n",
       "      <th>Unnamed: 0</th>\n",
       "      <th>title</th>\n",
       "      <th>location</th>\n",
       "      <th>bedrooms</th>\n",
       "      <th>bathrooms</th>\n",
       "      <th>price</th>\n",
       "      <th>rate</th>\n",
       "    </tr>\n",
       "  </thead>\n",
       "  <tbody>\n",
       "    <tr>\n",
       "      <th>count</th>\n",
       "      <td>2520.000000</td>\n",
       "      <td>2520</td>\n",
       "      <td>2144</td>\n",
       "      <td>2520.000000</td>\n",
       "      <td>2520.000000</td>\n",
       "      <td>2520</td>\n",
       "      <td>2520</td>\n",
       "    </tr>\n",
       "    <tr>\n",
       "      <th>unique</th>\n",
       "      <td>NaN</td>\n",
       "      <td>18</td>\n",
       "      <td>17</td>\n",
       "      <td>NaN</td>\n",
       "      <td>NaN</td>\n",
       "      <td>16</td>\n",
       "      <td>2</td>\n",
       "    </tr>\n",
       "    <tr>\n",
       "      <th>top</th>\n",
       "      <td>NaN</td>\n",
       "      <td>3 Bedroom Apartment / Flat to rent in Nyali</td>\n",
       "      <td>Kileleshwa, Nairobi</td>\n",
       "      <td>NaN</td>\n",
       "      <td>NaN</td>\n",
       "      <td>55 000</td>\n",
       "      <td>Per Month</td>\n",
       "    </tr>\n",
       "    <tr>\n",
       "      <th>freq</th>\n",
       "      <td>NaN</td>\n",
       "      <td>252</td>\n",
       "      <td>257</td>\n",
       "      <td>NaN</td>\n",
       "      <td>NaN</td>\n",
       "      <td>382</td>\n",
       "      <td>2395</td>\n",
       "    </tr>\n",
       "    <tr>\n",
       "      <th>mean</th>\n",
       "      <td>1259.500000</td>\n",
       "      <td>NaN</td>\n",
       "      <td>NaN</td>\n",
       "      <td>2.551190</td>\n",
       "      <td>2.450794</td>\n",
       "      <td>NaN</td>\n",
       "      <td>NaN</td>\n",
       "    </tr>\n",
       "    <tr>\n",
       "      <th>std</th>\n",
       "      <td>727.605662</td>\n",
       "      <td>NaN</td>\n",
       "      <td>NaN</td>\n",
       "      <td>0.922868</td>\n",
       "      <td>0.976480</td>\n",
       "      <td>NaN</td>\n",
       "      <td>NaN</td>\n",
       "    </tr>\n",
       "    <tr>\n",
       "      <th>min</th>\n",
       "      <td>0.000000</td>\n",
       "      <td>NaN</td>\n",
       "      <td>NaN</td>\n",
       "      <td>1.000000</td>\n",
       "      <td>1.000000</td>\n",
       "      <td>NaN</td>\n",
       "      <td>NaN</td>\n",
       "    </tr>\n",
       "    <tr>\n",
       "      <th>25%</th>\n",
       "      <td>629.750000</td>\n",
       "      <td>NaN</td>\n",
       "      <td>NaN</td>\n",
       "      <td>2.000000</td>\n",
       "      <td>2.000000</td>\n",
       "      <td>NaN</td>\n",
       "      <td>NaN</td>\n",
       "    </tr>\n",
       "    <tr>\n",
       "      <th>50%</th>\n",
       "      <td>1259.500000</td>\n",
       "      <td>NaN</td>\n",
       "      <td>NaN</td>\n",
       "      <td>3.000000</td>\n",
       "      <td>2.000000</td>\n",
       "      <td>NaN</td>\n",
       "      <td>NaN</td>\n",
       "    </tr>\n",
       "    <tr>\n",
       "      <th>75%</th>\n",
       "      <td>1889.250000</td>\n",
       "      <td>NaN</td>\n",
       "      <td>NaN</td>\n",
       "      <td>3.000000</td>\n",
       "      <td>3.000000</td>\n",
       "      <td>NaN</td>\n",
       "      <td>NaN</td>\n",
       "    </tr>\n",
       "    <tr>\n",
       "      <th>max</th>\n",
       "      <td>2519.000000</td>\n",
       "      <td>NaN</td>\n",
       "      <td>NaN</td>\n",
       "      <td>4.000000</td>\n",
       "      <td>5.000000</td>\n",
       "      <td>NaN</td>\n",
       "      <td>NaN</td>\n",
       "    </tr>\n",
       "  </tbody>\n",
       "</table>\n",
       "</div>"
      ],
      "text/plain": [
       "         Unnamed: 0                                        title   \n",
       "count   2520.000000                                         2520  \\\n",
       "unique          NaN                                           18   \n",
       "top             NaN  3 Bedroom Apartment / Flat to rent in Nyali   \n",
       "freq            NaN                                          252   \n",
       "mean    1259.500000                                          NaN   \n",
       "std      727.605662                                          NaN   \n",
       "min        0.000000                                          NaN   \n",
       "25%      629.750000                                          NaN   \n",
       "50%     1259.500000                                          NaN   \n",
       "75%     1889.250000                                          NaN   \n",
       "max     2519.000000                                          NaN   \n",
       "\n",
       "                   location     bedrooms    bathrooms    price       rate  \n",
       "count                  2144  2520.000000  2520.000000     2520       2520  \n",
       "unique                   17          NaN          NaN       16          2  \n",
       "top     Kileleshwa, Nairobi          NaN          NaN   55 000  Per Month  \n",
       "freq                    257          NaN          NaN      382       2395  \n",
       "mean                    NaN     2.551190     2.450794      NaN        NaN  \n",
       "std                     NaN     0.922868     0.976480      NaN        NaN  \n",
       "min                     NaN     1.000000     1.000000      NaN        NaN  \n",
       "25%                     NaN     2.000000     2.000000      NaN        NaN  \n",
       "50%                     NaN     3.000000     2.000000      NaN        NaN  \n",
       "75%                     NaN     3.000000     3.000000      NaN        NaN  \n",
       "max                     NaN     4.000000     5.000000      NaN        NaN  "
      ]
     },
     "execution_count": 36,
     "metadata": {},
     "output_type": "execute_result"
    }
   ],
   "source": [
    "housing_data.describe(include=\"all\")\n"
   ]
  },
  {
   "cell_type": "code",
   "execution_count": 37,
   "metadata": {},
   "outputs": [
    {
     "data": {
      "text/html": [
       "<div>\n",
       "<style scoped>\n",
       "    .dataframe tbody tr th:only-of-type {\n",
       "        vertical-align: middle;\n",
       "    }\n",
       "\n",
       "    .dataframe tbody tr th {\n",
       "        vertical-align: top;\n",
       "    }\n",
       "\n",
       "    .dataframe thead th {\n",
       "        text-align: right;\n",
       "    }\n",
       "</style>\n",
       "<table border=\"1\" class=\"dataframe\">\n",
       "  <thead>\n",
       "    <tr style=\"text-align: right;\">\n",
       "      <th></th>\n",
       "      <th>Unnamed: 0</th>\n",
       "      <th>title</th>\n",
       "      <th>location</th>\n",
       "      <th>bedrooms</th>\n",
       "      <th>bathrooms</th>\n",
       "      <th>price</th>\n",
       "      <th>rate</th>\n",
       "    </tr>\n",
       "  </thead>\n",
       "  <tbody>\n",
       "    <tr>\n",
       "      <th>7</th>\n",
       "      <td>7</td>\n",
       "      <td>3 Bedroom Apartment / Flat to rent in Westlands</td>\n",
       "      <td>NaN</td>\n",
       "      <td>3</td>\n",
       "      <td>3</td>\n",
       "      <td>78 000</td>\n",
       "      <td>Per Month</td>\n",
       "    </tr>\n",
       "    <tr>\n",
       "      <th>15</th>\n",
       "      <td>15</td>\n",
       "      <td>2 Bedroom Apartment / Flat to rent in Hurlingham</td>\n",
       "      <td>NaN</td>\n",
       "      <td>2</td>\n",
       "      <td>2</td>\n",
       "      <td>75 000</td>\n",
       "      <td>Per Month</td>\n",
       "    </tr>\n",
       "    <tr>\n",
       "      <th>18</th>\n",
       "      <td>18</td>\n",
       "      <td>3 Bedroom Apartment / Flat to rent in Nyali</td>\n",
       "      <td>NaN</td>\n",
       "      <td>3</td>\n",
       "      <td>2</td>\n",
       "      <td>45 000</td>\n",
       "      <td>Per Month</td>\n",
       "    </tr>\n",
       "    <tr>\n",
       "      <th>29</th>\n",
       "      <td>29</td>\n",
       "      <td>3 Bedroom Apartment / Flat to rent in Westlands</td>\n",
       "      <td>NaN</td>\n",
       "      <td>3</td>\n",
       "      <td>3</td>\n",
       "      <td>78 000</td>\n",
       "      <td>Per Month</td>\n",
       "    </tr>\n",
       "    <tr>\n",
       "      <th>36</th>\n",
       "      <td>36</td>\n",
       "      <td>2 Bedroom Apartment / Flat to rent in Hurlingham</td>\n",
       "      <td>NaN</td>\n",
       "      <td>2</td>\n",
       "      <td>2</td>\n",
       "      <td>75 000</td>\n",
       "      <td>Per Month</td>\n",
       "    </tr>\n",
       "    <tr>\n",
       "      <th>...</th>\n",
       "      <td>...</td>\n",
       "      <td>...</td>\n",
       "      <td>...</td>\n",
       "      <td>...</td>\n",
       "      <td>...</td>\n",
       "      <td>...</td>\n",
       "      <td>...</td>\n",
       "    </tr>\n",
       "    <tr>\n",
       "      <th>2493</th>\n",
       "      <td>2493</td>\n",
       "      <td>2 Bedroom Apartment / Flat to rent in Hurlingham</td>\n",
       "      <td>NaN</td>\n",
       "      <td>2</td>\n",
       "      <td>2</td>\n",
       "      <td>75 000</td>\n",
       "      <td>Per Month</td>\n",
       "    </tr>\n",
       "    <tr>\n",
       "      <th>2496</th>\n",
       "      <td>2496</td>\n",
       "      <td>3 Bedroom Apartment / Flat to rent in Nyali</td>\n",
       "      <td>NaN</td>\n",
       "      <td>3</td>\n",
       "      <td>2</td>\n",
       "      <td>45 000</td>\n",
       "      <td>Per Month</td>\n",
       "    </tr>\n",
       "    <tr>\n",
       "      <th>2506</th>\n",
       "      <td>2506</td>\n",
       "      <td>3 Bedroom Apartment / Flat to rent in Westlands</td>\n",
       "      <td>NaN</td>\n",
       "      <td>3</td>\n",
       "      <td>3</td>\n",
       "      <td>78 000</td>\n",
       "      <td>Per Month</td>\n",
       "    </tr>\n",
       "    <tr>\n",
       "      <th>2513</th>\n",
       "      <td>2513</td>\n",
       "      <td>2 Bedroom Apartment / Flat to rent in Hurlingham</td>\n",
       "      <td>NaN</td>\n",
       "      <td>2</td>\n",
       "      <td>2</td>\n",
       "      <td>75 000</td>\n",
       "      <td>Per Month</td>\n",
       "    </tr>\n",
       "    <tr>\n",
       "      <th>2516</th>\n",
       "      <td>2516</td>\n",
       "      <td>3 Bedroom Apartment / Flat to rent in Nyali</td>\n",
       "      <td>NaN</td>\n",
       "      <td>3</td>\n",
       "      <td>2</td>\n",
       "      <td>45 000</td>\n",
       "      <td>Per Month</td>\n",
       "    </tr>\n",
       "  </tbody>\n",
       "</table>\n",
       "<p>376 rows × 7 columns</p>\n",
       "</div>"
      ],
      "text/plain": [
       "      Unnamed: 0                                             title location   \n",
       "7              7   3 Bedroom Apartment / Flat to rent in Westlands      NaN  \\\n",
       "15            15  2 Bedroom Apartment / Flat to rent in Hurlingham      NaN   \n",
       "18            18       3 Bedroom Apartment / Flat to rent in Nyali      NaN   \n",
       "29            29   3 Bedroom Apartment / Flat to rent in Westlands      NaN   \n",
       "36            36  2 Bedroom Apartment / Flat to rent in Hurlingham      NaN   \n",
       "...          ...                                               ...      ...   \n",
       "2493        2493  2 Bedroom Apartment / Flat to rent in Hurlingham      NaN   \n",
       "2496        2496       3 Bedroom Apartment / Flat to rent in Nyali      NaN   \n",
       "2506        2506   3 Bedroom Apartment / Flat to rent in Westlands      NaN   \n",
       "2513        2513  2 Bedroom Apartment / Flat to rent in Hurlingham      NaN   \n",
       "2516        2516       3 Bedroom Apartment / Flat to rent in Nyali      NaN   \n",
       "\n",
       "      bedrooms  bathrooms    price       rate  \n",
       "7            3          3   78 000  Per Month  \n",
       "15           2          2   75 000  Per Month  \n",
       "18           3          2   45 000  Per Month  \n",
       "29           3          3   78 000  Per Month  \n",
       "36           2          2   75 000  Per Month  \n",
       "...        ...        ...      ...        ...  \n",
       "2493         2          2   75 000  Per Month  \n",
       "2496         3          2   45 000  Per Month  \n",
       "2506         3          3   78 000  Per Month  \n",
       "2513         2          2   75 000  Per Month  \n",
       "2516         3          2   45 000  Per Month  \n",
       "\n",
       "[376 rows x 7 columns]"
      ]
     },
     "execution_count": 37,
     "metadata": {},
     "output_type": "execute_result"
    }
   ],
   "source": [
    "housing_data[housing_data[\"location\"].isnull()]"
   ]
  },
  {
   "cell_type": "code",
   "execution_count": 38,
   "metadata": {},
   "outputs": [
    {
     "name": "stdout",
     "output_type": "stream",
     "text": [
      "<class 'pandas.core.frame.DataFrame'>\n",
      "RangeIndex: 2520 entries, 0 to 2519\n",
      "Data columns (total 7 columns):\n",
      " #   Column      Non-Null Count  Dtype \n",
      "---  ------      --------------  ----- \n",
      " 0   Unnamed: 0  2520 non-null   int64 \n",
      " 1   title       2520 non-null   object\n",
      " 2   location    2520 non-null   object\n",
      " 3   bedrooms    2520 non-null   int64 \n",
      " 4   bathrooms   2520 non-null   int64 \n",
      " 5   price       2520 non-null   object\n",
      " 6   rate        2520 non-null   object\n",
      "dtypes: int64(3), object(4)\n",
      "memory usage: 137.9+ KB\n"
     ]
    }
   ],
   "source": [
    "#Solving the missing values in the 'location' column\n",
    "housing_data['location'] = (housing_data['title'].str.split('in ', expand=True)[1])\n",
    "housing_data.info()\n"
   ]
  },
  {
   "cell_type": "code",
   "execution_count": 39,
   "metadata": {},
   "outputs": [],
   "source": [
    "housing_data['price'] = housing_data['price'].str.replace(' ', '')\n",
    "housing_data['price'] = housing_data['price'].astype(int)\n",
    "housing_data = housing_data.rename(columns={'Unnamed: 0 ': 'idx'})"
   ]
  },
  {
   "cell_type": "code",
   "execution_count": 40,
   "metadata": {},
   "outputs": [
    {
     "name": "stdout",
     "output_type": "stream",
     "text": [
      "bedrooms\n",
      "3    1010\n",
      "2     749\n",
      "1     381\n",
      "4     380\n",
      "Name: count, dtype: int64\n",
      "bathrooms\n",
      "2    1004\n",
      "3     879\n",
      "1     381\n",
      "4     130\n",
      "5     126\n",
      "Name: count, dtype: int64\n"
     ]
    },
    {
     "data": {
      "text/plain": [
       "{'whiskers': [<matplotlib.lines.Line2D at 0x1ef4b3b3ed0>,\n",
       "  <matplotlib.lines.Line2D at 0x1ef4b3b5490>],\n",
       " 'caps': [<matplotlib.lines.Line2D at 0x1ef4b3b6810>,\n",
       "  <matplotlib.lines.Line2D at 0x1ef4b3b7590>],\n",
       " 'boxes': [<matplotlib.lines.Line2D at 0x1ef4b3b2cd0>],\n",
       " 'medians': [<matplotlib.lines.Line2D at 0x1ef4b3bc8d0>],\n",
       " 'fliers': [<matplotlib.lines.Line2D at 0x1ef4b3bd8d0>],\n",
       " 'means': []}"
      ]
     },
     "execution_count": 40,
     "metadata": {},
     "output_type": "execute_result"
    },
    {
     "data": {
      "image/png": "[encoded data removed]",
      "text/plain": [
       "<Figure size 640x480 with 1 Axes>"
      ]
     },
     "metadata": {},
     "output_type": "display_data"
    }
   ],
   "source": [
    "#look for any possible ouliers\n",
    "print(housing_data['bedrooms'].value_counts())\n",
    "print(housing_data['bathrooms'].value_counts())\n",
    "plt.boxplot(housing_data['price'])"
   ]
  },
  {
   "cell_type": "code",
   "execution_count": 41,
   "metadata": {},
   "outputs": [
    {
     "data": {
      "text/plain": [
       "price\n",
       "165000    129\n",
       "200000    125\n",
       "300000    126\n",
       "Name: count, dtype: int64"
      ]
     },
     "execution_count": 41,
     "metadata": {},
     "output_type": "execute_result"
    }
   ],
   "source": [
    "housing_data.loc[housing_data['price'] > 150000, 'price'].value_counts().sort_index()"
   ]
  },
  {
   "cell_type": "code",
   "execution_count": 42,
   "metadata": {},
   "outputs": [],
   "source": [
    "#Data Preparation\n",
    "#changing the location column to categorical data for the model\n",
    "housing_data['location'] = housing_data['location'].astype('object')"
   ]
  },
  {
   "cell_type": "code",
   "execution_count": 43,
   "metadata": {},
   "outputs": [
    {
     "name": "stderr",
     "output_type": "stream",
     "text": [
      "C:\\Users\\25479\\AppData\\Local\\Temp\\ipykernel_13512\\509816444.py:9: SettingWithCopyWarning: \n",
      "A value is trying to be set on a copy of a slice from a DataFrame.\n",
      "Try using .loc[row_indexer,col_indexer] = value instead\n",
      "\n",
      "See the caveats in the documentation: https://pandas.pydata.org/pandas-docs/stable/user_guide/indexing.html#returning-a-view-versus-a-copy\n",
      "  X['location'] = X['location'].map(location_map)\n"
     ]
    }
   ],
   "source": [
    "#Select the necessary columns for training the model\n",
    "X = housing_data[['location', 'bedrooms', 'bathrooms',]]\n",
    "y = housing_data['price']\n",
    "\n",
    "#Converting the values in 'location' to numerical values\n",
    "location_map = {'Riverside' : 0, 'Kileleshwa' :1, 'Nyali' :2, 'Lavington' :3, 'Kahawa Wendani' :4,\n",
    "       'Kilimani' :5, 'Westlands' :6, 'Muthaiga' :7, 'Kikuyu':8, 'Shanzu' :9,\n",
    "       'Hurlingham' :10, 'Spring Valley' :11}\n",
    "X['location'] = X['location'].map(location_map)\n",
    "\n",
    "\n",
    "#split the data into training and test sets\n",
    "X_train, X_test, y_train, y_test = train_test_split(X, y, test_size=0.2)"
   ]
  },
  {
   "cell_type": "code",
   "execution_count": 44,
   "metadata": {},
   "outputs": [
    {
     "name": "stdout",
     "output_type": "stream",
     "text": [
      "Accuracy score: 0.86\n"
     ]
    }
   ],
   "source": [
    "#Training and Testing Decision Tree Model\n",
    "tree = DecisionTreeClassifier()\n",
    "tree.fit(X_train, y_train)\n",
    "\n",
    "#Make Predictions on the test set\n",
    "y_pred = tree.predict(X_test)\n",
    "\n",
    "#Calculate the accuracy score of the predictions\n",
    "accuracy = accuracy_score(y_test, y_pred)\n",
    "print(\"Accuracy score: {:.2f}\".format(accuracy))"
   ]
  },
  {
   "cell_type": "code",
   "execution_count": 49,
   "metadata": {},
   "outputs": [
    {
     "data": {
      "text/plain": [
       "Text(0.5, 1.0, 'Bar Plot: Location vs Price')"
      ]
     },
     "execution_count": 49,
     "metadata": {},
     "output_type": "execute_result"
    },
    {
     "data": {
      "image/png": "[encoded data removed]",
      "text/plain": [
       "<Figure size 1600x700 with 1 Axes>"
      ]
     },
     "metadata": {},
     "output_type": "display_data"
    }
   ],
   "source": [
    "#RELATIONSHIP BETWEEN THE LOCATION AND THE PRICES OF THE APARTMENTS\n",
    "plt.figure(figsize=(16, 7))\n",
    "\n",
    "plt.bar(housing_data['location'], housing_data['price'])\n",
    "plt.xlabel('Location')\n",
    "plt.ylabel('Price')\n",
    "plt.title('Bar Plot: Location vs Price')\n"
   ]
  },
  {
   "cell_type": "code",
   "execution_count": 48,
   "metadata": {},
   "outputs": [
    {
     "data": {
      "image/png": "[encoded data removed]",
      "text/plain": [
       "<Figure size 640x480 with 1 Axes>"
      ]
     },
     "metadata": {},
     "output_type": "display_data"
    }
   ],
   "source": [
    "#RELATIONSHIP BETWEEN THE NUMBER OF APARTMENTS IN EACH LOCATION\n",
    "apartment_counts = housing_data['location'].value_counts()\n",
    "\n",
    "apartment_counts.plot(kind='bar')\n",
    "plt.xlabel('Location')\n",
    "plt.ylabel('Number of Apartments')\n",
    "plt.title('Number of Apartments in Each Location')\n",
    "plt.show()"
   ]
  },
  {
   "cell_type": "code",
   "execution_count": null,
   "metadata": {},
   "outputs": [],
   "source": []
  }
 ],
 "metadata": {
  "kernelspec": {
   "display_name": "Python 3",
   "language": "python",
   "name": "python3"
  },
  "language_info": {
   "codemirror_mode": {
    "name": "ipython",
    "version": 3
   },
   "file_extension": ".py",
   "mimetype": "text/x-python",
   "name": "python",
   "nbconvert_exporter": "python",
   "pygments_lexer": "ipython3",
   "version": "3.11.2"
  },
  "orig_nbformat": 4
 },
 "nbformat": 4,
 "nbformat_minor": 2
}
